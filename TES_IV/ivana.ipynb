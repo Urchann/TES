{
 "cells": [
  {
   "cell_type": "markdown",
   "metadata": {
    "id": "5sm6PZKehufQ"
   },
   "source": [
    "関数の定義と必要なモジュールの読み込み"
   ]
  },
  {
   "cell_type": "code",
   "execution_count": null,
   "metadata": {
    "colab": {
     "base_uri": "https://localhost:8080/"
    },
    "executionInfo": {
     "elapsed": 5111,
     "status": "ok",
     "timestamp": 1695638147545,
     "user": {
      "displayName": "TASUKU HAYASHI",
      "userId": "12375152497818006218"
     },
     "user_tz": -540
    },
    "id": "Q-70Cgd3gyah",
    "outputId": "28095a06-aa79-4438-dce9-78d93d6020df"
   },
   "outputs": [
    {
     "name": "stdout",
     "output_type": "stream",
     "text": [
      "Drive already mounted at /content/drive; to attempt to forcibly remount, call drive.mount(\"/content/drive\", force_remount=True).\n"
     ]
    }
   ],
   "source": [
    "from google.colab import drive\n",
    "drive.mount('/content/drive')"
   ]
  },
  {
   "cell_type": "code",
   "execution_count": null,
   "metadata": {
    "colab": {
     "base_uri": "https://localhost:8080/"
    },
    "executionInfo": {
     "elapsed": 4825,
     "status": "ok",
     "timestamp": 1695629415079,
     "user": {
      "displayName": "TASUKU HAYASHI",
      "userId": "12375152497818006218"
     },
     "user_tz": -540
    },
    "id": "NiQUlZQ5g-fn",
    "outputId": "10a7f121-9500-463b-8e1f-9c2c4b4c71b1"
   },
   "outputs": [
    {
     "name": "stdout",
     "output_type": "stream",
     "text": [
      "Requirement already satisfied: lmfit in /usr/local/lib/python3.10/dist-packages (1.2.2)\n",
      "Requirement already satisfied: asteval>=0.9.28 in /usr/local/lib/python3.10/dist-packages (from lmfit) (0.9.31)\n",
      "Requirement already satisfied: numpy>=1.19 in /usr/local/lib/python3.10/dist-packages (from lmfit) (1.23.5)\n",
      "Requirement already satisfied: scipy>=1.6 in /usr/local/lib/python3.10/dist-packages (from lmfit) (1.11.2)\n",
      "Requirement already satisfied: uncertainties>=3.1.4 in /usr/local/lib/python3.10/dist-packages (from lmfit) (3.1.7)\n",
      "Requirement already satisfied: future in /usr/local/lib/python3.10/dist-packages (from uncertainties>=3.1.4->lmfit) (0.18.3)\n"
     ]
    }
   ],
   "source": [
    "pip install lmfit"
   ]
  },
  {
   "cell_type": "code",
   "execution_count": null,
   "metadata": {
    "id": "gXe-MA6hc7RN"
   },
   "outputs": [],
   "source": [
    "import gdown\n",
    "import glob\n",
    "import re\n",
    "import numpy as np\n",
    "import matplotlib.pyplot as plt\n",
    "import matplotlib.cm as cm\n",
    "from scipy.optimize import curve_fit\n",
    "\n",
    "#計算に必要な関数の定義\n",
    "def Cal_Ites(Vout, Xi):\n",
    "  '''\n",
    "  Vout is out put voltage of SQUID\n",
    "  Xi is the current-voltage conversion coefficient\n",
    "  '''\n",
    "  Ites = Vout / Xi\n",
    "  return Ites\n",
    "\n",
    "def Cal_Rtes(Itb, Ites, Rsh):\n",
    "  '''\n",
    "  Itb is TES bias current (unit:A)\n",
    "  Ites is TES current (unit:A)\n",
    "  Rsh is shunt Resistance (unit:Ohm)\n",
    "  '''\n",
    "  Rtes = (Itb - Ites) * Rsh / Ites\n",
    "  return Rtes\n",
    "\n",
    "def Cal_Vtes(Rtes, Ites):\n",
    "  return Rtes * Ites\n",
    "\n",
    "def Cal_Ttes(Tbath, Go, n, Ptes):\n",
    "  return ((Tbath**(n)) + ((n * Ptes) / Go))**(1 / n)\n",
    "\n",
    "def Cal_Gtes(Go,n,Ttes):\n",
    "  return Go * (Ttes**(n-1))\n",
    "\n",
    "def makeTbath(filename_list):\n",
    "  Tbath = []\n",
    "  num = 0\n",
    "  for tb in filename_list:\n",
    "    tb_ = tb.split('/')[-1]\n",
    "    for e, name in enumerate(tb_.split('_')):\n",
    "      if name.find('mK')!=-1:\n",
    "        num = e\n",
    "\n",
    "    tb_key = tb_.split('_')[num]\n",
    "    tbath = float(tb_key[:-2])\n",
    "    Tbath.append(tbath)\n",
    "\n",
    "  Tbath = np.asarray(Tbath)\n",
    "  print(Tbath)\n",
    "  return Tbath\n",
    "\n",
    "def Cal_alpha(T, R):\n",
    "  dR = np.diff(R)\n",
    "  dT = np.diff(T)\n",
    "  dRdT = dR/dT\n",
    "  T_ave = (T[1:] + T[:-1])/2\n",
    "  R_ave = (R[1:] + R[:-1])/2\n",
    "  alpha = dRdT * T_ave / R_ave\n",
    "  return alpha\n",
    "\n",
    "def OffsetCollection(Vsq,nofit=False):\n",
    "  dVsq = np.diff(Vsq)\n",
    "  vsq  = Vsq\n",
    "  edge_num = 0\n",
    "  for thr in np.arange(3.0,0.005,-0.001):\n",
    "    mask = dVsq>thr\n",
    "    if len(dVsq[mask])==1:\n",
    "      print(f'threshold value {thr}')\n",
    "      edge_num = np.argwhere(mask==True)+1\n",
    "      edge_num = edge_num[0][0]\n",
    "      print(edge_num)\n",
    "      break\n",
    "\n",
    "  if (edge_num!=0)and(nofit):\n",
    "    print('collect offset')\n",
    "    ss     = vsq[edge_num:]\n",
    "    ss     = ss - ss.min()\n",
    "    ns     = vsq[:edge_num]\n",
    "    ns_Itb = Itb[:edge_num]\n",
    "    a, b   = np.polyfit(ns_Itb[:200], ns[:200], 1)\n",
    "    ns     = ns - b\n",
    "    Vsqc = np.hstack((ns, ss))\n",
    "  else:\n",
    "    Vsqc = vsq-vsq.min()\n",
    "\n",
    "  return Vsqc"
   ]
  },
  {
   "cell_type": "code",
   "execution_count": null,
   "metadata": {
    "colab": {
     "base_uri": "https://localhost:8080/"
    },
    "executionInfo": {
     "elapsed": 224,
     "status": "ok",
     "timestamp": 1695629422562,
     "user": {
      "displayName": "TASUKU HAYASHI",
      "userId": "12375152497818006218"
     },
     "user_tz": -540
    },
    "id": "FdDm3cE2g_3s",
    "outputId": "3d12d822-ea54-4614-f4b1-e89aa48e608b"
   },
   "outputs": [
    {
     "data": {
      "text/plain": [
       "['*', '.', 't', 't', 'x']"
      ]
     },
     "execution_count": 5,
     "metadata": {},
     "output_type": "execute_result"
    }
   ],
   "source": [
    "#データの読み込み\n",
    "filename_list = glob.glob('/content/drive/MyDrive/GraduationResearch/1mushroom/JAXA120_Ea4_A5/IV/IV*.txt')\n",
    "filename_list.sort()\n",
    "filename_list"
   ]
  },
  {
   "cell_type": "code",
   "execution_count": null,
   "metadata": {
    "colab": {
     "base_uri": "https://localhost:8080/"
    },
    "executionInfo": {
     "elapsed": 233,
     "status": "ok",
     "timestamp": 1695629427855,
     "user": {
      "displayName": "TASUKU HAYASHI",
      "userId": "12375152497818006218"
     },
     "user_tz": -540
    },
    "id": "5yUjtUsvK1z6",
    "outputId": "a7abeb6f-4c75-4d5b-c564-9f5a33a78cf4"
   },
   "outputs": [
    {
     "name": "stdout",
     "output_type": "stream",
     "text": [
      "Automatic pdb calling has been turned OFF\n"
     ]
    }
   ],
   "source": [
    "pdb"
   ]
  },
  {
   "cell_type": "code",
   "execution_count": null,
   "metadata": {
    "colab": {
     "base_uri": "https://localhost:8080/"
    },
    "executionInfo": {
     "elapsed": 342,
     "status": "ok",
     "timestamp": 1695629430014,
     "user": {
      "displayName": "TASUKU HAYASHI",
      "userId": "12375152497818006218"
     },
     "user_tz": -540
    },
    "id": "_G9SOITeKHu1",
    "outputId": "48612cea-8681-4881-e4d2-868a38dc8b74"
   },
   "outputs": [
    {
     "name": "stdout",
     "output_type": "stream",
     "text": [
      "[110. 115. 120. 125. 130. 135. 140. 145. 150.]\n"
     ]
    }
   ],
   "source": [
    "Tbath = makeTbath(filename_list)"
   ]
  },
  {
   "cell_type": "code",
   "execution_count": null,
   "metadata": {
    "colab": {
     "base_uri": "https://localhost:8080/"
    },
    "executionInfo": {
     "elapsed": 256,
     "status": "ok",
     "timestamp": 1695629432388,
     "user": {
      "displayName": "TASUKU HAYASHI",
      "userId": "12375152497818006218"
     },
     "user_tz": -540
    },
    "id": "QfedWFicTuhH",
    "outputId": "d6480c4a-ae23-4ee8-d01c-e7fa4b634ed2"
   },
   "outputs": [
    {
     "name": "stdout",
     "output_type": "stream",
     "text": [
      "110.0\n",
      "-117754.247732114\n",
      "34040.43985637343\n",
      "9932449.102832962\n"
     ]
    },
    {
     "name": "stderr",
     "output_type": "stream",
     "text": [
      "<ipython-input-25-06bc486218a9>:24: RuntimeWarning: invalid value encountered in divide\n",
      "  Rtes = (Itb - Ites) * Rsh / Ites\n"
     ]
    }
   ],
   "source": [
    "Rsh = 3.9e-3 #Ohm\n",
    "Min = 1.009e-10\n",
    "Mfb = 8.912e-11\n",
    "Rfb = 30.e3\n",
    "Xi = Rfb * Min / Mfb\n",
    "xi_collect = 1.0\n",
    "\n",
    "data = {}\n",
    "Vout = {}\n",
    "Itb  = {}\n",
    "Ites = {}\n",
    "Vtes = {}\n",
    "Rtes = {}\n",
    "Ptes = {}\n",
    "Gtes = {}\n",
    "Ttes = {}\n",
    "\n",
    "for e, i in enumerate(filename_list):\n",
    "  k = Tbath[e]\n",
    "  data    = np.loadtxt(i)\n",
    "  data_num = len(data[:,0])\n",
    "  Itb[k]  = data[:,0]/1e6 #A\n",
    "  Vout[k] = data[:,1] - data.min() #V\n",
    "  Ites[k]  = Cal_Ites(Vout[k], Xi)\n",
    "  Rtes[k] = Cal_Rtes(Itb[k], Ites[k], Rsh)\n",
    "  Vtes[k] = Cal_Vtes(Rtes[k], Ites[k])\n",
    "  Ptes[k] = Ites[k] * Vtes[k]\n",
    "  if e == 0:\n",
    "    #超伝導での傾きを求める、超伝導部分の10点を持ってきてdI,dVの平均値からdI/dVを計算する\n",
    "    tilt = np.average(np.diff(Ites[k][data_num-11:data_num-1]))/np.average(np.diff(Vtes[k][data_num-11:data_num-1]))\n",
    "    print(k)\n",
    "    print(tilt)\n",
    "    while tilt > 0: #傾きが負になるようにXiを正にするように補正\n",
    "      Xi -= 1\n",
    "      Ites[k]  = Cal_Ites(Vout[k], Xi)\n",
    "      Rtes[k] = Cal_Rtes(Itb[k], Ites[k], Rsh)\n",
    "      Vtes[k] = Cal_Vtes(Rtes[k], Ites[k])\n",
    "      tilt = np.average(np.diff(Ites[k][data_num-11:data_num-1]))/np.average(np.diff(Vtes[k][data_num-11:data_num-1]))\n",
    "\n",
    "    while tilt < 0: #傾きが正になるようにXiを正にするように補正\n",
    "      Xi += 1\n",
    "      Ites[k]  = Cal_Ites(Vout[k], Xi)\n",
    "      Rtes[k] = Cal_Rtes(Itb[k], Ites[k], Rsh)\n",
    "      Vtes[k] = Cal_Vtes(Rtes[k], Ites[k])\n",
    "      tilt = np.average(np.diff(Ites[k][data_num-11:data_num-1]))/np.average(np.diff(Vtes[k][data_num-11:data_num-1]))\n",
    "\n",
    "\n",
    "    print(Xi)\n",
    "    print(tilt)\n",
    "    Ptes[k] = Ites[k] * Vtes[k]\n",
    "\n",
    "  Ites[k]  = Cal_Ites(Vout[k], Xi)\n",
    "  Rtes[k] = Cal_Rtes(Itb[k], Ites[k], Rsh)\n",
    "  Vtes[k] = Cal_Vtes(Rtes[k], Ites[k])\n",
    "  Ptes[k] = Ites[k] * Vtes[k]"
   ]
  },
  {
   "cell_type": "code",
   "execution_count": null,
   "metadata": {
    "id": "REh57NvShjlA"
   },
   "outputs": [],
   "source": [
    "#plot row data\n",
    "plt.figure(1)\n",
    "for i in Tbath:\n",
    "  plt.plot(Itb[i]*1e6, Vout[i], '.', label='Tbath='+str(int(i))+' mK')\n",
    "\n",
    "plt.title(r'$\\rm V_{out}\\ vs.\\ I_{TES\\ bias}$')\n",
    "plt.xlabel(r'$\\rm I_{TES\\ Bias}\\ (\\mu A)$', fontsize=14)\n",
    "plt.ylabel(r'$\\rm V_{out}\\ (V)$', fontsize=14)\n",
    "plt.legend(fontsize=12,frameon=False, ncols=2)\n",
    "plt.grid(ls='--')\n",
    "plt.show()\n",
    "\n",
    "#plot Ites vs. Vtes\n",
    "plt.figure(2)\n",
    "for i in Tbath:\n",
    "  plt.plot(Vtes[i]*1e6, Ites[i]*1e6, '.', label='Tbath='+str(int(i))+' mK')\n",
    "\n",
    "plt.title(r'$\\rm I_{TES}\\ vs.\\ V_{TES}$')\n",
    "plt.xlabel(r'$\\rm V_{TES}\\ (\\mu V)$', fontsize=14)\n",
    "plt.ylabel(r'$\\rm I_{TES}\\ (\\mu A)$', fontsize=14)\n",
    "plt.legend(fontsize=12,frameon=False, ncols=2)\n",
    "plt.grid(ls='--')\n",
    "plt.show()"
   ]
  },
  {
   "cell_type": "code",
   "execution_count": null,
   "metadata": {
    "id": "-5S_oUk4j5jo"
   },
   "outputs": [],
   "source": [
    "#plot Ptes vs. Itb\n",
    "plt.figure()\n",
    "for e, tb_key in enumerate(Tbath):\n",
    "  rtes = Rtes[tb_key][Rtes[tb_key]==Rtes[tb_key]]\n",
    "  rtesmax = rtes.max()\n",
    "  rtesmin = rtes.min()\n",
    "  Rn = rtesmax - rtesmin\n",
    "  plt.plot(Rtes[tb_key]/Rn, Ptes[i]*1e9, '.', label='Tbath='+str(int(tb_key))+' mK')\n",
    "\n",
    "plt.title(r'$\\rm P_{TES}\\ vs.\\ R_{TES\\ Bias}$')\n",
    "plt.xlabel(r'$\\rm R_{TES}/R_{N}\\ (\\mu A)$', fontsize=14)\n",
    "plt.ylabel(r'$\\rm P_{TES}\\ (nW)$', fontsize=14)\n",
    "plt.legend(fontsize=12,frameon=False, ncols=2)\n",
    "plt.grid(ls='--')\n",
    "plt.ylim(0., 0.1)\n",
    "#plt.xlim(0., 300)\n",
    "plt.show()"
   ]
  },
  {
   "cell_type": "code",
   "execution_count": null,
   "metadata": {
    "id": "u9KaexqAiZCy"
   },
   "outputs": [],
   "source": [
    "#Calculation Tc, Go, n\n",
    "import lmfit as lmf\n",
    "\n",
    "def Pfunc(Tb, Tc, Go, n):\n",
    "  '''\n",
    "  Tbath: unit K\n",
    "  Tc: unit K\n",
    "  Go: unit W/K\n",
    "  n:\n",
    "  '''\n",
    "  pb = (Go/n)*( pow(Tc,n) - pow(Tb,n) )\n",
    "  return pb\n",
    "\n",
    "Pb = []\n",
    "Pberr = []\n",
    "for e, tb_key in enumerate(Tbath):\n",
    "  rtes_ = Rtes[tb_key][Rtes[tb_key]==Rtes[tb_key]]\n",
    "  rtesmax = rtes_.max()\n",
    "  rtesmin = rtes_.min()\n",
    "  Rn = Rn = rtesmax - rtesmin\n",
    "  rtes = Rtes[tb_key]/Rn\n",
    "\n",
    "  #Rtes/Rnの値が20%-30%を持ってくる\n",
    "  filter_Ptes = (0.2<rtes) & (rtes<0.3)\n",
    "\n",
    "  pb = np.average(Ptes[tb_key][filter_Ptes])\n",
    "  Pb.append(pb)\n",
    "\n",
    "  #各Tbath温度でPbを計算した際のデータの不偏標準偏差から誤差を計算する。\n",
    "  perr = np.std(Ptes[tb_key][filter_Ptes],ddof = 1)\n",
    "  Pberr.append(perr)\n",
    "\n",
    "#\n",
    "Tb = Tbath/1e3     #mK to K\n",
    "Pb = np.asarray(Pb) #W\n",
    "Pberr = np.asarray(Pberr)\n",
    "\n",
    "#Fitting\n",
    "model = lmf.Model(Pfunc)\n",
    "model.make_params(verbose=True)\n",
    "model.set_param_hint('Tc',min=0.100, max=0.320)\n",
    "model.set_param_hint('Go',min=1.e-15, max=1.e2)\n",
    "model.set_param_hint('n' ,min=3, max=4)\n",
    "result = model.fit(Pb, Tb=Tb, Tc=0.290, Go=1.e-8, n=3.5)\n",
    "print(result.fit_report())\n",
    "Tc = result.best_values['Tc']\n",
    "Go = result.best_values['Go']\n",
    "n  = result.best_values['n']\n",
    "\n",
    "#χ2の計算\n",
    "chi2_min = sum(((Pb - Pfunc(Tb=Tb, Tc=Tc, Go=Go, n=n))/Pberr)**2)\n",
    "\n",
    "#plot Pb vs. Tbath\n",
    "plt.figure()\n",
    "plt.errorbar(Tb*1e3, Pb*1e12, yerr = Pberr*1e12, color='k',capsize=4,ms=5,marker='o',mec='k',mfc='k',ls='None')\n",
    "tb_min = Tbath.min()/1e3 - 0.010\n",
    "tb_max = Tbath.max()/1e3 + 0.010\n",
    "x = np.linspace(tb_min, tb_max, 100) #for plotting model\n",
    "plt.plot(x*1e3, Pfunc(x, Tc, Go, n)*1e12, 'r--')\n",
    "plt.title(r'$\\rm P_{b}\\ vs.\\ T_{bath}$')\n",
    "plt.xlabel(r'$\\rm T_{bath}\\ (mK)$', fontsize=14)\n",
    "plt.ylabel(r'$\\rm P_{b}\\ (pW)$', fontsize=14)\n",
    "plt.legend(fontsize=14,frameon=False)\n",
    "plt.grid(ls='--')\n",
    "plt.legend(['data',rf'$\\rm T_c={Tc:.3}\\ K, G_{0}={Go*1e9:.3}\\ nW/K, n={n:.2f}$'],fontsize=14,frameon=False)\n",
    "plt.show()"
   ]
  },
  {
   "cell_type": "code",
   "execution_count": null,
   "metadata": {
    "id": "-QjrfTT1y4Ak"
   },
   "outputs": [],
   "source": [
    "#Calculation T_TES\n",
    "for i in Tbath:\n",
    "  Ttes[i] = Cal_Ttes(i/1e3, Go, n, Ptes[i])\n",
    "  plt.plot(Ttes[i]*1e3, Rtes[i], '.',label='Tbath='+str(int(i))+'mK')\n",
    "\n",
    "plt.title(r'$\\rm R_{TES}\\ vs.\\ T_{TES}$')\n",
    "plt.xlabel(r'$\\rm T_{TES}\\ (mK)$', fontsize=14)\n",
    "plt.ylabel(r'$\\rm R_{TES}\\ (\\Omega)$', fontsize=14)\n",
    "plt.legend(fontsize=10,frameon=False, ncol=1,loc=2)\n",
    "plt.grid(ls='--')"
   ]
  },
  {
   "cell_type": "markdown",
   "metadata": {
    "id": "b-ZVyhwCxPf0"
   },
   "source": [
    "他にもGtesやαなどが計算できるので、関数を使ってプロットしてみるといい。"
   ]
  },
  {
   "cell_type": "code",
   "execution_count": null,
   "metadata": {
    "id": "7ZnkSUdWh9ru"
   },
   "outputs": [],
   "source": [
    "alpha = Cal_alpha(Ttes[120], Rtes[120])\n",
    "x = (Itb[120][1:] + Itb[120][:-1])/2\n",
    "plt.plot(x[alpha==alpha]*1e6, alpha[alpha==alpha])\n",
    "plt.ylim(0, 200)\n",
    "plt.xlim(150,300)"
   ]
  },
  {
   "cell_type": "markdown",
   "metadata": {
    "id": "sOLqhJFXOxqe"
   },
   "source": [
    "コントアを計算"
   ]
  },
  {
   "cell_type": "code",
   "execution_count": null,
   "metadata": {
    "id": "2RTNI9f0y5sp"
   },
   "outputs": [],
   "source": [
    "import numpy as np\n",
    "import matplotlib.pyplot as plt\n",
    "\n",
    "#68%,90%,99%誤差\n",
    "CRange68=2.295815160785974337606\n",
    "CRange90=4.605170185988091368036\n",
    "CRange99=9.210340371976182736072\n",
    "cslevels=[CRange68,CRange90,CRange99]\n",
    "cmap = plt.get_cmap(\"tab10\")\n",
    "fn = [r'$68.27\\%$',r'$90\\%$',r'$99\\%$']\n",
    "\n",
    "def Pfunc(Tb, Tc, Go, n):\n",
    "  '''\n",
    "  Tbath: unit K\n",
    "  Tc: unit K\n",
    "  Go: unit W/K\n",
    "  n:\n",
    "  '''\n",
    "  pb = (Go/n)*( pow(Tc,n) - pow(Tb,n) )\n",
    "  return pb\n",
    "\n",
    "#コントアの計算用関数\n",
    "def CalCont_Govsn(Tb, Pb, Perr, Tcbest, chi2_min, xn=np.arange(2.0, 4.1, 0.1), yg=np.arange(20, 31, 1), name=None):\n",
    "\n",
    "  #G0 vs n\n",
    "  Xn, YGo = np.meshgrid(xn, yg)\n",
    "  for e, nn in enumerate(xn):\n",
    "      chi2_Fix_n = np.array([])\n",
    "      for j, g0 in enumerate(yg):\n",
    "          g0 = g0*1e-9 #nW/k -> W/K\n",
    "          #chi2を計算\n",
    "          chi2_cont = sum(((Pb - Pfunc(Tb=Tb, Tc=Tc, Go=g0, n=nn))/Perr)**2)\n",
    "          #print(f'\\r{e+1}/{len(X[0])},{j+1}/{len(Y.T[0])}',end='',flush=True)\n",
    "          print(f'\\r{e+1}/{len(X[0])}',end='',flush=True)\n",
    "\n",
    "          chi2_Fix_n = np.hstack((chi2_Fix_n, chi2_cont))\n",
    "\n",
    "      if e == 0:\n",
    "        chi2_array = chi2_Fix_n\n",
    "      else:\n",
    "        chi2_array = np.vstack((chi2_array, chi2_Fix_n))\n",
    "\n",
    "  chi2_array -= chi2_min\n",
    "\n",
    "  plt.figure()\n",
    "  cont = plt.contour(Xn, YGo, chi2_array.T, levels=cslevels)\n",
    "  cont.clabel(fmt='%1.1f', fontsize=14)\n",
    "  plt.plot(n, Go*1e9, 'r*', ms=10)\n",
    "  plt.ylabel(r'$G_{\\rm 0}\\ (\\rm nW/K)$', fontsize=14)\n",
    "  plt.xlabel(r'$n$', fontsize=14)\n",
    "  if name:\n",
    "      np.savetxt(f'G0vsn_X_{name}.txt',X)\n",
    "      np.savetxt(f'G0vsn_Y_{name}.txt',Y)\n",
    "      np.savetxt(f'G0vsn_Z_{name}.txt',chi2_array)\n",
    "      #np.savetxt(f'BestFit_{name}.txt', bestfit_para)\n",
    "\n",
    "def CalCont_Tcvsn(Tb, Pb, Perr, Gobest, chi2_min, xn=np.arange(2.0, 4.1, 0.1), ytc=np.arange(150, 170, 1), name=None):\n",
    "\n",
    "  #G0 vs n\n",
    "  Xn, Ytc = np.meshgrid(xn, ytc)\n",
    "  for e, nn in enumerate(xn):\n",
    "      chi2_Fix_n = np.array([])\n",
    "      for j, tc in enumerate(ytc):\n",
    "          tc = tc*1e-3 # mK -> K\n",
    "          #chi2を計算\n",
    "          chi2_cont = sum(((Pb - Pfunc(Tb=Tb, Tc=tc, Go=Go, n=nn))/Perr)**2)\n",
    "          print(f'\\r{e+1}/{len(X[0])},{j+1}/{len(Y.T[0])}',end='',flush=True)\n",
    "          #print(f'\\r{e+1}/{len(X[0])}',end='',flush=True)\n",
    "\n",
    "          chi2_Fix_n = np.hstack((chi2_Fix_n, chi2_cont))\n",
    "\n",
    "      if e == 0:\n",
    "        chi2_array = chi2_Fix_n\n",
    "      else:\n",
    "        chi2_array = np.vstack((chi2_array, chi2_Fix_n))\n",
    "\n",
    "  chi2_array -= chi2_min\n",
    "\n",
    "  plt.figure()\n",
    "  cont = plt.contour(Xn, Ytc, chi2_array.T, levels=cslevels)\n",
    "  cont.clabel(fmt='%1.1f', fontsize=14)\n",
    "  plt.plot(n, Tc*1e3, 'r*', ms=10)\n",
    "  plt.ylabel(r'$T_{\\rm c}\\ (\\rm mK)$', fontsize=14)\n",
    "  plt.xlabel(r'$n$', fontsize=14)\n",
    "  if name:\n",
    "      np.savetxt(f'Tcvsn_X_{name}.txt',X)\n",
    "      np.savetxt(f'Tcvsn_Y_{name}.txt',Y)\n",
    "      np.savetxt(f'Tcvsn_Z_{name}.txt',chi2_array)\n",
    "      #np.savetxt(f'BestFit_{name}.txt', bestfit_para)\n",
    "\n",
    "def CalCont_TcvsGo(Tb, Pb, Perr, nbest, chi2_min, xg=np.arange(20, 31, 1), ytc=np.arange(150, 170, 1), name=None):\n",
    "\n",
    "  #G0 vs n\n",
    "  Xgo, Ytc = np.meshgrid(xg, ytc)\n",
    "  for e, g0 in enumerate(xg):\n",
    "      chi2_Fix_n = np.array([])\n",
    "      for j, tc in enumerate(ytc):\n",
    "          tc = tc*1e-3 # mK -> K\n",
    "          #chi2を計算\n",
    "          chi2_cont = sum(((Pb - Pfunc(Tb=Tb, Tc=tc, Go=g0, n=n))/Perr)**2)\n",
    "          print(f'\\r{e+1}/{len(X[0])},{j+1}/{len(Y.T[0])}',end='',flush=True)\n",
    "          #print(f'\\r{e+1}/{len(X[0])}',end='',flush=True)\n",
    "\n",
    "          chi2_Fix_n = np.hstack((chi2_Fix_n, chi2_cont))\n",
    "\n",
    "      if e == 0:\n",
    "        chi2_array = chi2_Fix_n\n",
    "      else:\n",
    "        chi2_array = np.vstack((chi2_array, chi2_Fix_n))\n",
    "\n",
    "  chi2_array -= chi2_min\n",
    "\n",
    "  plt.figure()\n",
    "  cont = plt.contour(Xgo, Ytc, chi2_array.T, levels=cslevels)\n",
    "  cont.clabel(fmt='%1.1f', fontsize=14)\n",
    "  plt.plot(Go*1e9, Tc*1e3, 'r*', ms=10)\n",
    "  plt.ylabel(r'$T_{\\rm c}\\ (\\rm mK)$', fontsize=14)\n",
    "  plt.xlabel(r'$G_{0}\\ (\\rm nW/K)$', fontsize=14)\n",
    "  if name:\n",
    "      np.savetxt(f'TcvsGo_X_{name}.txt',X)\n",
    "      np.savetxt(f'TcvsGo_Y_{name}.txt',Y)\n",
    "      np.savetxt(f'TcvsGo_Z_{name}.txt',chi2_array)\n",
    "      #np.savetxt(f'BestFit_{name}.txt', bestfit_para)"
   ]
  },
  {
   "cell_type": "code",
   "execution_count": null,
   "metadata": {
    "id": "u4u9xPnby48x"
   },
   "outputs": [],
   "source": [
    "path = '/content/drive/MyDrive/GraduationResearch/1mushroom/JAXA120_Ea4_A5/IV/'\n",
    "\n",
    "ID = 'A5'\n",
    "best_fit_para = np.array([Tc, Go, n, chi2_min])\n",
    "sdata = np.array([Tb, Pb, Pberr])\n",
    "np.savetxt(path+f'{ID}_data_bestfitpara.txt',best_fit_para,header='Tc(K), G0(W/K), n, chi2_min')\n",
    "np.savetxt(path+f'{ID}_data_PbTb.txt',sdata,header='Tbath(K), Pb(W), Pb err(W)')"
   ]
  },
  {
   "cell_type": "code",
   "execution_count": null,
   "metadata": {
    "colab": {
     "base_uri": "https://localhost:8080/",
     "height": 913
    },
    "executionInfo": {
     "elapsed": 11478,
     "status": "ok",
     "timestamp": 1695638890064,
     "user": {
      "displayName": "TASUKU HAYASHI",
      "userId": "12375152497818006218"
     },
     "user_tz": -540
    },
    "id": "_BZf2PxlPAU_",
    "outputId": "2d764fab-f19f-4f1b-ff7c-35a78a18201f"
   },
   "outputs": [
    {
     "name": "stdout",
     "output_type": "stream",
     "text": [
      "41/100,40/200"
     ]
    },
    {
     "data": {
      "image/png": "[encoded data removed]",
      "text/plain": [
       "<Figure size 640x480 with 1 Axes>"
      ]
     },
     "metadata": {},
     "output_type": "display_data"
    },
    {
     "data": {
      "image/png": "[encoded data removed]",
      "text/plain": [
       "<Figure size 640x480 with 1 Axes>"
      ]
     },
     "metadata": {},
     "output_type": "display_data"
    }
   ],
   "source": [
    "#TbとPb,Pberrのデータ読み込み\n",
    "Tb, Pb, Pberr = np.loadtxt(path+f'{ID}_data_PbTb.txt')\n",
    "Tc, Go, n, chi2_min = np.loadtxt(path+f'{ID}_data_bestfitpara.txt')\n",
    "#コントアの計算\n",
    "#CalCont_Govsn(Tb, Pb, Pberr, Tc, chi2_min, xn=np.arange(2.5, 3.5, 0.01), yg=np.arange(20, 40, 0.1))\n",
    "CalCont_Tcvsn(Tb, Pb, Pberr, Go, chi2_min, xn=np.arange(2.95, 3.05, 0.01), ytc=np.arange(154, 156.5, 0.01))\n",
    "CalCont_TcvsGo(Tb, Pb, Pberr, n, chi2_min, xg=np.arange(10, 51, 1), ytc=np.arange(153, 157, 0.1))"
   ]
  }
 ],
 "metadata": {
  "colab": {
   "provenance": []
  },
  "kernelspec": {
   "display_name": "tes",
   "language": "python",
   "name": "python3"
  },
  "language_info": {
   "codemirror_mode": {
    "name": "ipython",
    "version": 3
   },
   "file_extension": ".py",
   "mimetype": "text/x-python",
   "name": "python",
   "nbconvert_exporter": "python",
   "pygments_lexer": "ipython3",
   "version": "3.13.0"
  }
 },
 "nbformat": 4,
 "nbformat_minor": 0
}
